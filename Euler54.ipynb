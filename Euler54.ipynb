{
  "nbformat": 4,
  "nbformat_minor": 0,
  "metadata": {
    "colab": {
      "provenance": [],
      "authorship_tag": "ABX9TyMtAD0o0aHTNvRKB+JCJvqF",
      "include_colab_link": true
    },
    "kernelspec": {
      "name": "python3",
      "display_name": "Python 3"
    },
    "language_info": {
      "name": "python"
    }
  },
  "cells": [
    {
      "cell_type": "markdown",
      "metadata": {
        "id": "view-in-github",
        "colab_type": "text"
      },
      "source": [
        "<a href=\"https://colab.research.google.com/github/mmcpike/Euler-Problems/blob/main/Euler54.ipynb\" target=\"_parent\"><img src=\"https://colab.research.google.com/assets/colab-badge.svg\" alt=\"Open In Colab\"/></a>"
      ]
    },
    {
      "cell_type": "markdown",
      "source": [
        "# Poker Hands\n",
        "The file, poker.txt, contains one-thousand random hands dealt to two players. Each line of the file contains ten cards (separated by a single space): the first five are Player 1's cards and the last five are Player 2's cards. You can assume that all hands are valid (no invalid characters or repeated cards), each player's hand is in no specific order, and in each hand there is a clear winner.\n",
        "\n",
        "How many hands does Player 1 win?\n",
        "\n"
      ],
      "metadata": {
        "id": "oR1ZBhBFJxCN"
      }
    },
    {
      "cell_type": "code",
      "source": [
        "import pandas as pd\n",
        "# disable chained assignments to supress setting with copy warnings\n",
        "pd.options.mode.chained_assignment = None"
      ],
      "metadata": {
        "id": "JaJ8t3XTEuwN"
      },
      "execution_count": 1,
      "outputs": []
    },
    {
      "cell_type": "code",
      "source": [
        "url = 'https://raw.githubusercontent.com/mmcpike/Euler-Problems/refs/heads/main/0054_poker.txt'\n",
        "df = pd.read_csv(url,index_col=False,header=None,delimiter='\\s+')"
      ],
      "metadata": {
        "id": "84ctT6gyEBEa"
      },
      "execution_count": 50,
      "outputs": []
    },
    {
      "cell_type": "code",
      "source": [
        "# Dataframe with the values (A, 2, 3, etc.)\n",
        "df_kind = pd.DataFrame(df)\n",
        "for column in df_kind:\n",
        "    df_kind[column] = df_kind[column].str.slice(start=0,stop=1)\n",
        "\n",
        "df_kind.replace({'A':1, 'T': 10, 'J': 11, 'Q': 12, 'K': 13}, inplace = True)\n",
        "df_kind = df_kind.apply(pd.to_numeric)\n",
        "\n",
        "# Dataframe with the suits\n",
        "df_suit = pd.DataFrame(df)\n",
        "for column in df_suit:\n",
        "    df_suit[column] = df_suit[column].str.slice(start=1,stop=2)"
      ],
      "metadata": {
        "id": "AWRaikjMEnEc"
      },
      "execution_count": 51,
      "outputs": []
    },
    {
      "cell_type": "markdown",
      "source": [
        "# What hand does each player have?\n",
        "* J. High Card: Highest value card.\n",
        "* check I. One Pair: Two cards of the same value.\n",
        "* check H. Two Pairs: Two different pairs.\n",
        "* check G. Three of a Kind: Three cards of the same value.\n",
        "* F. Straight: All cards are consecutive values. Assumption: K, A, 2, 3, 4 is not a straight\n",
        "* E. Flush: All cards of the same suit.\n",
        "* check D. Full House: Three of a kind and a pair.\n",
        "* check C. Four of a Kind: Four cards of the same value.\n",
        "* B. Straight Flush: All cards are consecutive values of same suit.\n",
        "* A. Royal Flush: Ten, Jack, Queen, King, Ace, in same suit."
      ],
      "metadata": {
        "id": "YFFwWmrTJpE8"
      }
    },
    {
      "cell_type": "code",
      "source": [
        "# Dataframe for all hands (both players). Label each hand (flush, etc.).\n",
        "max_kind = [] # Max number of cards of the same value in hand\n",
        "min_kind = []\n",
        "num_kind = []\n",
        "num_suit = []\n",
        "\n",
        "for i in df.index:\n",
        "  for j in range(2):\n",
        "    kinds = df_kind.iloc[:,j*5:j*5+5].iloc[i,:] # player j hand i values only\n",
        "    suits = df_suit.iloc[:,j*5:j*5+5].iloc[i,:] # player j hand i suits only\n",
        "    max_kind.append(kinds.value_counts().max())\n",
        "    min_kind.append(kinds.value_counts().min())\n",
        "    num_kind.append(kinds.nunique())\n",
        "    num_suit.append(suits.nunique())\n",
        "\n",
        "df_data = pd.DataFrame({'max_kind': max_kind, 'min_kind': min_kind,\n",
        "                   'num_kind': num_kind, 'num_suit': num_suit})\n",
        "\n",
        "# Create columns for hands\n",
        "df_data['hand'] = ''\n",
        "# Four of a kind\n",
        "df_data.loc[df_data['max_kind'] == 4, 'hand'] = 'C'\n",
        "# Full house\n",
        "df_data.loc[(df_data['max_kind'] == 3) & (df_data['min_kind'] == 2), 'hand'] = 'D'\n",
        "# Three of a kind\n",
        "df_data.loc[(df_data['max_kind'] == 3) & (df_data['min_kind'] == 1), 'hand'] = 'G'\n",
        "# Two pairs\n",
        "df_data.loc[(df_data['max_kind'] == 2) & (df_data['num_kind'] == 3), 'hand'] = 'H'\n",
        "# One pair\n",
        "df_data.loc[df_data['num_kind'] == 4, 'hand'] = 'I'"
      ],
      "metadata": {
        "id": "cCPjEmqnoEQ-"
      },
      "execution_count": 52,
      "outputs": []
    },
    {
      "cell_type": "code",
      "source": [
        "# STRAIGHT, STRAIGHT FLUSH, ROYAL FLUSH\n",
        "# First, check for straights. If hand = straight and num_suit = 1, then change hand to straight flush.\n",
        "# Next, check for 10, J, Q, K, A straight. If hand = (royal) straight and num_suit = 1, then change hand to royal flush.\n",
        "\n",
        "# All values are unique and max value - min value = 4 --> straight\n",
        "\n",
        "# Loop through rows where all values are unique (num_kind = 5)\n",
        "for i in df_data[df_data['num_kind']==5].index:\n",
        "\n",
        "# if (player j hand i values).max() - (player j hand i values).min() == 4:\n",
        "#  df_data.loc[i, 'hand'] = .....\n",
        "\n"
      ],
      "metadata": {
        "id": "DrEo34L9Pk2h"
      },
      "execution_count": 29,
      "outputs": []
    },
    {
      "cell_type": "code",
      "source": [
        "# # ROYAL FLUSH\n",
        "\n",
        "# # Change Ace from 1 to 14 and check for royal flush\n",
        "# df_kind.replace({1:14}, inplace = True)\n",
        "\n",
        "# for i in df_kind1[df_kind1['num_kind']==5].index:\n",
        "#   row = df_kind.iloc[:,0:5].iloc[i,:] # row with 5 columns\n",
        "#   if row.max()=='14' and row.min()=='10':\n",
        "#     df_kind1.loc[i,'hand'] = 'A'"
      ],
      "metadata": {
        "id": "Oj9YDmq7JBN8"
      },
      "execution_count": 30,
      "outputs": []
    },
    {
      "cell_type": "code",
      "source": [],
      "metadata": {
        "id": "BB3z0tgJggX0"
      },
      "execution_count": null,
      "outputs": []
    }
  ]
}
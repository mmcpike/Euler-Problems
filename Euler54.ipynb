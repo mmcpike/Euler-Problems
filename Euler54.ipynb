{
  "nbformat": 4,
  "nbformat_minor": 0,
  "metadata": {
    "colab": {
      "provenance": [],
      "authorship_tag": "ABX9TyOZjKHiKXVI2xdIlkU6zdZa",
      "include_colab_link": true
    },
    "kernelspec": {
      "name": "python3",
      "display_name": "Python 3"
    },
    "language_info": {
      "name": "python"
    }
  },
  "cells": [
    {
      "cell_type": "markdown",
      "metadata": {
        "id": "view-in-github",
        "colab_type": "text"
      },
      "source": [
        "<a href=\"https://colab.research.google.com/github/mmcpike/Euler-Problems/blob/main/Euler54.ipynb\" target=\"_parent\"><img src=\"https://colab.research.google.com/assets/colab-badge.svg\" alt=\"Open In Colab\"/></a>"
      ]
    },
    {
      "cell_type": "markdown",
      "source": [
        "# Poker Hands\n",
        "The file, poker.txt, contains one-thousand random hands dealt to two players. Each line of the file contains ten cards (separated by a single space): the first five are Player 1's cards and the last five are Player 2's cards. You can assume that all hands are valid (no invalid characters or repeated cards), each player's hand is in no specific order, and in each hand there is a clear winner.\n",
        "\n",
        "How many hands does Player 1 win?\n",
        "\n"
      ],
      "metadata": {
        "id": "oR1ZBhBFJxCN"
      }
    },
    {
      "cell_type": "code",
      "source": [
        "import pandas as pd\n",
        "# disable chained assignments to supress setting with copy warnings\n",
        "pd.options.mode.chained_assignment = None"
      ],
      "metadata": {
        "id": "JaJ8t3XTEuwN"
      },
      "execution_count": 48,
      "outputs": []
    },
    {
      "cell_type": "code",
      "source": [
        "url = 'https://raw.githubusercontent.com/mmcpike/Euler-Problems/refs/heads/main/0054_poker.txt'\n",
        "df = pd.read_csv(url,index_col=False,header=None,delimiter='\\s+')"
      ],
      "metadata": {
        "id": "84ctT6gyEBEa"
      },
      "execution_count": 49,
      "outputs": []
    },
    {
      "cell_type": "code",
      "source": [
        "# Dataframe with the values (A, 2, 3, etc.)\n",
        "df_kind = pd.DataFrame(df)\n",
        "for column in df_kind:\n",
        "    df_kind[column] = df_kind[column].str.slice(start=0,stop=1)\n",
        "df_kind.replace({'A': 1, 'T': 10, 'J': 11, 'Q': 12, 'K': 13}, inplace = True)\n",
        "df_kind = df_kind.apply(pd.to_numeric)\n",
        "\n",
        "# Dataframe with the suits\n",
        "df_suit = pd.DataFrame(df)\n",
        "for column in df_suit:\n",
        "    df_suit[column] = df_suit[column].str.slice(start=1,stop=2)"
      ],
      "metadata": {
        "id": "AWRaikjMEnEc"
      },
      "execution_count": 56,
      "outputs": []
    },
    {
      "cell_type": "code",
      "source": [
        "df_kind1 = df_kind.iloc[:,0:5]\n",
        "df_kind2 = df_kind.iloc[:,5:10]\n",
        "df_suit1 = df_suit.iloc[:,0:5]\n",
        "df_suit2 = df_suit.iloc[:,5:10]"
      ],
      "metadata": {
        "id": "tuvOzVrvTY86"
      },
      "execution_count": 57,
      "outputs": []
    },
    {
      "cell_type": "markdown",
      "source": [
        "# What hand does each player have?\n",
        "* J. High Card: Highest value card.\n",
        "* check I. One Pair: Two cards of the same value.\n",
        "* check H. Two Pairs: Two different pairs.\n",
        "* check G. Three of a Kind: Three cards of the same value.\n",
        "* F. Straight: All cards are consecutive values. Assumption: K, A, 2, 3, 4 is not a straight\n",
        "* E. Flush: All cards of the same suit.\n",
        "* check D. Full House: Three of a kind and a pair.\n",
        "* check C. Four of a Kind: Four cards of the same value.\n",
        "* B. Straight Flush: All cards are consecutive values of same suit.\n",
        "* A. Royal Flush: Ten, Jack, Queen, King, Ace, in same suit.\n",
        "\n",
        "Count the number of repeated suits and kinds.\n"
      ],
      "metadata": {
        "id": "YFFwWmrTJpE8"
      }
    },
    {
      "cell_type": "code",
      "source": [
        "# Hands that can be determined by values\n",
        "df_kind1['max_kind'] = 0 # Max number of cards of the same value in hand\n",
        "df_kind1['min_kind'] = 0\n",
        "df_kind1['num_kind'] = 0 # Number of unique values in hand\n",
        "\n",
        "for i in df_kind1.index:\n",
        "  row = df_kind.iloc[:,0:5].iloc[i,:] # row with 5 columns\n",
        "  df_kind1.loc[i,'max_kind'] = row.value_counts().max()\n",
        "  df_kind1.loc[i,'min_kind'] = row.value_counts().min()\n",
        "  df_kind1.loc[i,'num_kind'] = row.nunique()\n",
        "\n",
        "# Four of a kind\n",
        "df_kind1.loc[df_kind1['max_kind'] == 4, 'hand'] = 'C'\n",
        "# Full house\n",
        "df_kind1.loc[(df_kind1['max_kind'] == 3) & (df_kind1['min_kind'] == 2), 'hand'] = 'D'\n",
        "# Three of a kind\n",
        "df_kind1.loc[(df_kind1['max_kind'] == 3) & (df_kind1['min_kind'] == 1), 'hand'] = 'G'\n",
        "# Two pairs\n",
        "df_kind1.loc[df_kind1['num_kind'] == 3, 'hand'] = 'H'\n",
        "# One pair\n",
        "df_kind1.loc[df_kind1['num_kind'] == 4, 'hand'] = 'I'"
      ],
      "metadata": {
        "id": "AM59AKDDIG_5"
      },
      "execution_count": 58,
      "outputs": []
    },
    {
      "cell_type": "code",
      "source": [
        "# Possible straights: A2345, 23456, 34567, 45678, 56789, 678910, 78910J, 8910JQ, 910JQK, AKQJ10 (highest)\n",
        "# Possible straights: 12345, 23456, 34567, 45678, 56789, 678910, 78910J, 89101112, 910111213, 1/10/11/12/13 (highest)\n",
        "# if num_kind = 5 and max - min = 4, then straight.\n",
        "df_kind.iloc[:,0:5].iloc[0,:].max()\n",
        "df_kind.iloc[:,0:5].iloc[0,:].min()\n"
      ],
      "metadata": {
        "id": "DrEo34L9Pk2h",
        "outputId": "3ede905b-a9af-4bc6-b764-1ab3cbc05a78",
        "colab": {
          "base_uri": "https://localhost:8080/"
        }
      },
      "execution_count": 61,
      "outputs": [
        {
          "output_type": "execute_result",
          "data": {
            "text/plain": [
              "4"
            ]
          },
          "metadata": {},
          "execution_count": 61
        }
      ]
    },
    {
      "cell_type": "code",
      "source": [],
      "metadata": {
        "id": "Oj9YDmq7JBN8"
      },
      "execution_count": null,
      "outputs": []
    }
  ]
}
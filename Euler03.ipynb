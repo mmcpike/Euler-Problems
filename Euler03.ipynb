{
  "nbformat": 4,
  "nbformat_minor": 0,
  "metadata": {
    "colab": {
      "provenance": [],
      "authorship_tag": "ABX9TyOKDdbNKRXc3XDfsUJx3jlQ",
      "include_colab_link": true
    },
    "kernelspec": {
      "name": "python3",
      "display_name": "Python 3"
    },
    "language_info": {
      "name": "python"
    }
  },
  "cells": [
    {
      "cell_type": "markdown",
      "metadata": {
        "id": "view-in-github",
        "colab_type": "text"
      },
      "source": [
        "<a href=\"https://colab.research.google.com/github/mmcpike/Euler-Problems/blob/main/Euler03.ipynb\" target=\"_parent\"><img src=\"https://colab.research.google.com/assets/colab-badge.svg\" alt=\"Open In Colab\"/></a>"
      ]
    },
    {
      "cell_type": "markdown",
      "source": [
        "# Problem\n",
        "The prime factors of $13195$ are $5, 7, 13$ and $29$.\n",
        "What is the largest prime factor of the number $600851475143$?\n"
      ],
      "metadata": {
        "id": "SIwYPfrIGP36"
      }
    },
    {
      "cell_type": "markdown",
      "source": [
        "# Solution"
      ],
      "metadata": {
        "id": "SeQlHtR5Jp-E"
      }
    },
    {
      "cell_type": "markdown",
      "source": [
        "Lemma: Every composite number n has a prime factor less than $\\sqrt{n}$."
      ],
      "metadata": {
        "id": "vf3LiZWQJr4v"
      }
    },
    {
      "cell_type": "code",
      "source": [
        "import math"
      ],
      "metadata": {
        "id": "TiDQ7eGUINo6"
      },
      "execution_count": 2,
      "outputs": []
    },
    {
      "cell_type": "code",
      "execution_count": 23,
      "metadata": {
        "id": "UIxYmAuxGLZI",
        "outputId": "321a2836-42f0-4515-c604-c7011373b3ba",
        "colab": {
          "base_uri": "https://localhost:8080/"
        }
      },
      "outputs": [
        {
          "output_type": "stream",
          "name": "stdout",
          "text": [
            "6857\n"
          ]
        }
      ],
      "source": [
        "n = 600851475143\n",
        "# Find all odd prime factors, but only print the largest.\n",
        "for i in range(3, math.floor(math.sqrt(n)), 2):\n",
        "  while n % i == 0:\n",
        "    n = n/i\n",
        "  if n == 1:\n",
        "    print(i)\n",
        "    break\n"
      ]
    },
    {
      "cell_type": "code",
      "source": [],
      "metadata": {
        "id": "DE9893SEvJ4L"
      },
      "execution_count": null,
      "outputs": []
    }
  ]
}
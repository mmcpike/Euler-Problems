{
  "nbformat": 4,
  "nbformat_minor": 0,
  "metadata": {
    "colab": {
      "provenance": [],
      "authorship_tag": "ABX9TyPoRf6Jf2ZyhBu43LGXm5tw",
      "include_colab_link": true
    },
    "kernelspec": {
      "name": "python3",
      "display_name": "Python 3"
    },
    "language_info": {
      "name": "python"
    }
  },
  "cells": [
    {
      "cell_type": "markdown",
      "metadata": {
        "id": "view-in-github",
        "colab_type": "text"
      },
      "source": [
        "<a href=\"https://colab.research.google.com/github/mmcpike/Euler-Problems/blob/main/Euler03.ipynb\" target=\"_parent\"><img src=\"https://colab.research.google.com/assets/colab-badge.svg\" alt=\"Open In Colab\"/></a>"
      ]
    },
    {
      "cell_type": "markdown",
      "source": [
        "# Problem\n",
        "The prime factors of $13195$ are $5, 7, 13$ and $29$.\n",
        "What is the largest prime factor of the number $600851475143$?\n"
      ],
      "metadata": {
        "id": "SIwYPfrIGP36"
      }
    },
    {
      "cell_type": "markdown",
      "source": [
        "# Solution"
      ],
      "metadata": {
        "id": "SeQlHtR5Jp-E"
      }
    },
    {
      "cell_type": "markdown",
      "source": [
        "Lemma: Every composite number n has a prime factor less than $\\sqrt{n}$."
      ],
      "metadata": {
        "id": "vf3LiZWQJr4v"
      }
    },
    {
      "cell_type": "code",
      "source": [
        "import math"
      ],
      "metadata": {
        "id": "TiDQ7eGUINo6"
      },
      "execution_count": 5,
      "outputs": []
    },
    {
      "cell_type": "code",
      "execution_count": 6,
      "metadata": {
        "id": "UIxYmAuxGLZI"
      },
      "outputs": [],
      "source": [
        "n = 600851475143\n",
        "for i in range(2, 30, 1):\n",
        "  if n % i == 0:\n",
        "    print(i)"
      ]
    },
    {
      "cell_type": "markdown",
      "source": [],
      "metadata": {
        "id": "jxSsA6KkGPjT"
      }
    }
  ]
}
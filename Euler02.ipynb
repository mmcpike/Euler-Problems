{
  "nbformat": 4,
  "nbformat_minor": 0,
  "metadata": {
    "colab": {
      "provenance": [],
      "authorship_tag": "ABX9TyMW6HxgtddvSvkpvgqjQAwB",
      "include_colab_link": true
    },
    "kernelspec": {
      "name": "python3",
      "display_name": "Python 3"
    },
    "language_info": {
      "name": "python"
    }
  },
  "cells": [
    {
      "cell_type": "markdown",
      "metadata": {
        "id": "view-in-github",
        "colab_type": "text"
      },
      "source": [
        "<a href=\"https://colab.research.google.com/github/mmcpike/Euler-Problems/blob/main/Euler02.ipynb\" target=\"_parent\"><img src=\"https://colab.research.google.com/assets/colab-badge.svg\" alt=\"Open In Colab\"/></a>"
      ]
    },
    {
      "cell_type": "markdown",
      "source": [
        "# Problem\n",
        "By considering the terms in the Fibonacci sequence whose values do not exceed four million, find the sum of the even-valued terms."
      ],
      "metadata": {
        "id": "qFnHg9QGF-uU"
      }
    },
    {
      "cell_type": "markdown",
      "source": [
        "# Solution\n",
        "$f1 = 1$ \\\\\n",
        "$f2 = 2$ \\\\\n",
        "$f3 = f1 + f2$ \\\\\n",
        "$f4 = f2 + f3 = f1 + 2f2$ \\\\\n",
        "$f5 = f3 + f4 = 2f1 + 3f2$ \\\\\n",
        "$f6 = f4 + f5 = 3f1 + 5f2$ \\\\\n",
        "$f7 = 5f1 + 8f2$ \\\\\n",
        "$f8 = 8f1 + 13f2$ \\\\\n",
        "\n",
        "$f4 = f3 + f2$ \\\\\n",
        "$f5 = f4 + f1 + f2$ \\\\\n",
        "$f6 = f5 + f1 + 2f2$ \\\\\n",
        "$f7 = 6 + 2f1 + 3f2$ \\\\\n",
        "$f8 = f7 + 3f1 + 5f2$ \\\\"
      ],
      "metadata": {
        "id": "QzvogF_UGllp"
      }
    }
  ]
}
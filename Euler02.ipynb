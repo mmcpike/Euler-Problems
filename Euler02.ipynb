{
  "nbformat": 4,
  "nbformat_minor": 0,
  "metadata": {
    "colab": {
      "provenance": [],
      "authorship_tag": "ABX9TyO7Uh5N8TxYdznGeBK7Yzgs",
      "include_colab_link": true
    },
    "kernelspec": {
      "name": "python3",
      "display_name": "Python 3"
    },
    "language_info": {
      "name": "python"
    }
  },
  "cells": [
    {
      "cell_type": "markdown",
      "metadata": {
        "id": "view-in-github",
        "colab_type": "text"
      },
      "source": [
        "<a href=\"https://colab.research.google.com/github/mmcpike/Euler-Problems/blob/main/Euler02.ipynb\" target=\"_parent\"><img src=\"https://colab.research.google.com/assets/colab-badge.svg\" alt=\"Open In Colab\"/></a>"
      ]
    },
    {
      "cell_type": "markdown",
      "source": [
        "# Problem\n",
        "By considering the terms in the Fibonacci sequence whose values do not exceed four million, find the sum of the even-valued terms."
      ],
      "metadata": {
        "id": "qFnHg9QGF-uU"
      }
    },
    {
      "cell_type": "markdown",
      "source": [
        "# Solution"
      ],
      "metadata": {
        "id": "QzvogF_UGllp"
      }
    },
    {
      "cell_type": "code",
      "source": [
        "sum = 0\n",
        "prev = 1\n",
        "current = 2\n",
        "while current < 4000000:\n",
        "  if current % 2 == 0:\n",
        "    sum += current\n",
        "  current += prev\n",
        "  prev = current - prev\n",
        "print(sum)"
      ],
      "metadata": {
        "id": "m3LAXDll95Pq",
        "outputId": "8d419501-8ad7-4e23-a4a9-07ca3dc3c277",
        "colab": {
          "base_uri": "https://localhost:8080/"
        }
      },
      "execution_count": 1,
      "outputs": [
        {
          "output_type": "stream",
          "name": "stdout",
          "text": [
            "4613732\n"
          ]
        }
      ]
    },
    {
      "cell_type": "markdown",
      "source": [
        "# Not helpful for this problem but a good reminder:\n",
        "Recursion formula for nth Fibonacci number $F(n)$:\n",
        "$\\begin{bmatrix}\n",
        "1 & 1\\\\\n",
        "1 & 0\n",
        "\\end{bmatrix}^n =\n",
        "\\begin{bmatrix}\n",
        "F(n) & F(n-1)\\\\\n",
        "F(n-1) & F(n-2)\n",
        "\\end{bmatrix}$"
      ],
      "metadata": {
        "id": "pbEBQIVjFeuK"
      }
    }
  ]
}